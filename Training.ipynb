{
 "cells": [
  {
   "cell_type": "code",
   "execution_count": 1,
   "id": "d5186e4c-be6d-45b1-928e-fb77886aaffd",
   "metadata": {},
   "outputs": [],
   "source": [
    "import os\n",
    "os.environ[\"KMP_DUPLICATE_LIB_OK\"] = \"TRUE\"\n"
   ]
  },
  {
   "cell_type": "code",
   "execution_count": 2,
   "id": "0a2e5618-5431-4ca4-a6a6-96df3db60c33",
   "metadata": {
    "id": "0a2e5618-5431-4ca4-a6a6-96df3db60c33"
   },
   "outputs": [],
   "source": [
    "import torch\n",
    "import torch.nn as nn\n",
    "from torch.utils.data import Dataset, DataLoader\n",
    "from sklearn.model_selection import train_test_split\n",
    "from sklearn.preprocessing import LabelEncoder\n",
    "import numpy as np\n",
    "from sklearn.metrics import accuracy_score, precision_score, recall_score, f1_score\n",
    "from tqdm import tqdm"
   ]
  },
  {
   "cell_type": "code",
   "execution_count": 3,
   "id": "3e18e284-5fbb-44f6-b6e7-0f18f5e800bd",
   "metadata": {
    "colab": {
     "base_uri": "https://localhost:8080/"
    },
    "id": "3e18e284-5fbb-44f6-b6e7-0f18f5e800bd",
    "outputId": "3b2072dc-f794-4d24-a16f-c5f81ecbc736"
   },
   "outputs": [],
   "source": [
    "import pandas as pd\n",
    "\n",
    "# Login using e.g. `huggingface-cli login` to access this dataset\n",
    "df = pd.read_csv(\"Cleaned Sentiment140 Dataset with Tokenized Sequences.csv\")"
   ]
  },
  {
   "cell_type": "code",
   "execution_count": 4,
   "id": "82dfebb3-0755-487f-820c-29db7c02b648",
   "metadata": {
    "id": "82dfebb3-0755-487f-820c-29db7c02b648"
   },
   "outputs": [],
   "source": [
    "# Custom Dataset Class\n",
    "class TwitterDataset(Dataset):\n",
    "    def __init__(self, sequences, labels):\n",
    "        self.sequences = sequences\n",
    "        self.labels = labels\n",
    "\n",
    "    def __len__(self):\n",
    "        return len(self.sequences)\n",
    "\n",
    "    def __getitem__(self, idx):\n",
    "        return torch.tensor(self.sequences[idx], dtype=torch.long), torch.tensor(self.labels[idx], dtype=torch.long)\n"
   ]
  },
  {
   "cell_type": "code",
   "execution_count": null,
   "id": "1a090434-8878-460e-859e-07d94116172e",
   "metadata": {
    "id": "1a090434-8878-460e-859e-07d94116172e"
   },
   "outputs": [],
   "source": []
  },
  {
   "cell_type": "code",
   "execution_count": 5,
   "id": "6144b246-8bcb-4ad5-bdc1-e3eee0efbdfe",
   "metadata": {
    "id": "6144b246-8bcb-4ad5-bdc1-e3eee0efbdfe"
   },
   "outputs": [],
   "source": [
    "# Custom Transformer Model\n",
    "class CustomTransformer(nn.Module):\n",
    "    def __init__(self, vocab_size, embed_dim=128, n_heads=4, num_layers=2, max_len=40, num_classes=2):\n",
    "        super().__init__()\n",
    "        self.embedding = nn.Embedding(vocab_size, embed_dim, padding_idx=0)\n",
    "        self.pos_embedding = nn.Parameter(torch.randn(1, max_len, embed_dim))\n",
    "        encoder_layer = nn.TransformerEncoderLayer(d_model=embed_dim, nhead=n_heads)\n",
    "        self.encoder = nn.TransformerEncoder(encoder_layer, num_layers=num_layers)\n",
    "        self.classifier = nn.Linear(embed_dim, num_classes)\n",
    "\n",
    "    def forward(self, x):\n",
    "        x = self.embedding(x) + self.pos_embedding[:, :x.size(1), :]\n",
    "        x = self.encoder(x)\n",
    "        x = x.mean(dim=1)\n",
    "        return self.classifier(x)"
   ]
  },
  {
   "cell_type": "code",
   "execution_count": 6,
   "id": "05a4206b-69fb-4324-9834-ca638679fa62",
   "metadata": {
    "id": "05a4206b-69fb-4324-9834-ca638679fa62"
   },
   "outputs": [],
   "source": [
    "df = df.dropna(subset=[\"sentiment label\", \"listed text\"])\n",
    "df = df[df[\"sentiment label\"].isin([\"Positive\", \"Neutral\", \"Negative\"])]\n",
    "\n",
    "# Convert stringified list to actual list\n",
    "df[\"listed text\"] = df[\"listed text\"].apply(eval)"
   ]
  },
  {
   "cell_type": "code",
   "execution_count": 7,
   "id": "38041339-ca08-4171-af00-37a3c6d7f4ea",
   "metadata": {
    "colab": {
     "base_uri": "https://localhost:8080/",
     "height": 310
    },
    "id": "38041339-ca08-4171-af00-37a3c6d7f4ea",
    "outputId": "a3e8b483-4f48-49d5-f484-bdcbc18578d7"
   },
   "outputs": [
    {
     "data": {
      "text/html": [
       "<div>\n",
       "<style scoped>\n",
       "    .dataframe tbody tr th:only-of-type {\n",
       "        vertical-align: middle;\n",
       "    }\n",
       "\n",
       "    .dataframe tbody tr th {\n",
       "        vertical-align: top;\n",
       "    }\n",
       "\n",
       "    .dataframe thead th {\n",
       "        text-align: right;\n",
       "    }\n",
       "</style>\n",
       "<table border=\"1\" class=\"dataframe\">\n",
       "  <thead>\n",
       "    <tr style=\"text-align: right;\">\n",
       "      <th></th>\n",
       "      <th>Unnamed: 0</th>\n",
       "      <th>sentiment</th>\n",
       "      <th>tweet_id</th>\n",
       "      <th>date</th>\n",
       "      <th>flag</th>\n",
       "      <th>user</th>\n",
       "      <th>text</th>\n",
       "      <th>sentiment label</th>\n",
       "      <th>masked text</th>\n",
       "      <th>listed text</th>\n",
       "      <th>truncated sequences</th>\n",
       "      <th>tokenized sequences</th>\n",
       "    </tr>\n",
       "  </thead>\n",
       "  <tbody>\n",
       "    <tr>\n",
       "      <th>0</th>\n",
       "      <td>0</td>\n",
       "      <td>0</td>\n",
       "      <td>1467810369</td>\n",
       "      <td>Mon Apr 06 22:19:45 PDT 2009</td>\n",
       "      <td>NO_QUERY</td>\n",
       "      <td>_TheSpecialOne_</td>\n",
       "      <td>[USER] [URL] - Aww, that's a bummer.  You shou...</td>\n",
       "      <td>Negative</td>\n",
       "      <td>[USER] [URL] - Aww, that's a bummer.  You shou...</td>\n",
       "      <td>[[USER], [URL], -, Aww, that, s, a, bummer, Yo...</td>\n",
       "      <td>[1, 2, 3, 4, 5, 6, 7, 8, 9, 10, 11, 12, 13, 14...</td>\n",
       "      <td>[1, 2, 3, 4, 5, 6, 7, 8, 9, 10, 11, 12, 13, 14...</td>\n",
       "    </tr>\n",
       "    <tr>\n",
       "      <th>1</th>\n",
       "      <td>1</td>\n",
       "      <td>0</td>\n",
       "      <td>1467810672</td>\n",
       "      <td>Mon Apr 06 22:19:49 PDT 2009</td>\n",
       "      <td>NO_QUERY</td>\n",
       "      <td>scotthamilton</td>\n",
       "      <td>is upset that he can't update his Facebook by ...</td>\n",
       "      <td>Negative</td>\n",
       "      <td>is upset that he can't update his Facebook by ...</td>\n",
       "      <td>[is, upset, that, he, can, t, update, his, Fac...</td>\n",
       "      <td>[20, 21, 5, 22, 23, 24, 25, 26, 27, 28, 29, 19...</td>\n",
       "      <td>[20, 21, 5, 22, 23, 24, 25, 26, 27, 28, 29, 19...</td>\n",
       "    </tr>\n",
       "    <tr>\n",
       "      <th>2</th>\n",
       "      <td>2</td>\n",
       "      <td>0</td>\n",
       "      <td>1467810917</td>\n",
       "      <td>Mon Apr 06 22:19:53 PDT 2009</td>\n",
       "      <td>NO_QUERY</td>\n",
       "      <td>mattycus</td>\n",
       "      <td>[USER] I dived many times for the ball. Manage...</td>\n",
       "      <td>Negative</td>\n",
       "      <td>[USER] I dived many times for the ball. Manage...</td>\n",
       "      <td>[[USER], I, dived, many, time, for, the, ball,...</td>\n",
       "      <td>[1, 38, 39, 40, 41, 42, 43, 44, 45, 17, 46, 47...</td>\n",
       "      <td>[1, 38, 39, 40, 41, 42, 43, 44, 45, 17, 46, 47...</td>\n",
       "    </tr>\n",
       "    <tr>\n",
       "      <th>3</th>\n",
       "      <td>3</td>\n",
       "      <td>0</td>\n",
       "      <td>1467811184</td>\n",
       "      <td>Mon Apr 06 22:19:57 PDT 2009</td>\n",
       "      <td>NO_QUERY</td>\n",
       "      <td>ElleCTF</td>\n",
       "      <td>my whole body feels itchy and like its on fire</td>\n",
       "      <td>Negative</td>\n",
       "      <td>my whole body feels itchy and like its on fire</td>\n",
       "      <td>[my, whole, body, feel, itchy, and, like, it, ...</td>\n",
       "      <td>[52, 53, 54, 55, 56, 30, 57, 19, 58, 59, '[PAD...</td>\n",
       "      <td>[52, 53, 54, 55, 56, 30, 57, 19, 58, 59, '[PAD...</td>\n",
       "    </tr>\n",
       "    <tr>\n",
       "      <th>4</th>\n",
       "      <td>4</td>\n",
       "      <td>0</td>\n",
       "      <td>1467811193</td>\n",
       "      <td>Mon Apr 06 22:19:57 PDT 2009</td>\n",
       "      <td>NO_QUERY</td>\n",
       "      <td>Karoli</td>\n",
       "      <td>[USER] no, it's not behaving at all. i'm mad. ...</td>\n",
       "      <td>Negative</td>\n",
       "      <td>[USER] no, it's not behaving at all. i'm mad. ...</td>\n",
       "      <td>[[USER], no, it, s, not, behaving, at, all, i,...</td>\n",
       "      <td>[1, 60, 19, 6, 61, 62, 63, 64, 65, 66, 67, 68,...</td>\n",
       "      <td>[1, 60, 19, 6, 61, 62, 63, 64, 65, 66, 67, 68,...</td>\n",
       "    </tr>\n",
       "  </tbody>\n",
       "</table>\n",
       "</div>"
      ],
      "text/plain": [
       "   Unnamed: 0  sentiment    tweet_id                          date      flag  \\\n",
       "0           0          0  1467810369  Mon Apr 06 22:19:45 PDT 2009  NO_QUERY   \n",
       "1           1          0  1467810672  Mon Apr 06 22:19:49 PDT 2009  NO_QUERY   \n",
       "2           2          0  1467810917  Mon Apr 06 22:19:53 PDT 2009  NO_QUERY   \n",
       "3           3          0  1467811184  Mon Apr 06 22:19:57 PDT 2009  NO_QUERY   \n",
       "4           4          0  1467811193  Mon Apr 06 22:19:57 PDT 2009  NO_QUERY   \n",
       "\n",
       "              user                                               text  \\\n",
       "0  _TheSpecialOne_  [USER] [URL] - Aww, that's a bummer.  You shou...   \n",
       "1    scotthamilton  is upset that he can't update his Facebook by ...   \n",
       "2         mattycus  [USER] I dived many times for the ball. Manage...   \n",
       "3          ElleCTF    my whole body feels itchy and like its on fire    \n",
       "4           Karoli  [USER] no, it's not behaving at all. i'm mad. ...   \n",
       "\n",
       "  sentiment label                                        masked text  \\\n",
       "0        Negative  [USER] [URL] - Aww, that's a bummer.  You shou...   \n",
       "1        Negative  is upset that he can't update his Facebook by ...   \n",
       "2        Negative  [USER] I dived many times for the ball. Manage...   \n",
       "3        Negative    my whole body feels itchy and like its on fire    \n",
       "4        Negative  [USER] no, it's not behaving at all. i'm mad. ...   \n",
       "\n",
       "                                         listed text  \\\n",
       "0  [[USER], [URL], -, Aww, that, s, a, bummer, Yo...   \n",
       "1  [is, upset, that, he, can, t, update, his, Fac...   \n",
       "2  [[USER], I, dived, many, time, for, the, ball,...   \n",
       "3  [my, whole, body, feel, itchy, and, like, it, ...   \n",
       "4  [[USER], no, it, s, not, behaving, at, all, i,...   \n",
       "\n",
       "                                 truncated sequences  \\\n",
       "0  [1, 2, 3, 4, 5, 6, 7, 8, 9, 10, 11, 12, 13, 14...   \n",
       "1  [20, 21, 5, 22, 23, 24, 25, 26, 27, 28, 29, 19...   \n",
       "2  [1, 38, 39, 40, 41, 42, 43, 44, 45, 17, 46, 47...   \n",
       "3  [52, 53, 54, 55, 56, 30, 57, 19, 58, 59, '[PAD...   \n",
       "4  [1, 60, 19, 6, 61, 62, 63, 64, 65, 66, 67, 68,...   \n",
       "\n",
       "                                 tokenized sequences  \n",
       "0  [1, 2, 3, 4, 5, 6, 7, 8, 9, 10, 11, 12, 13, 14...  \n",
       "1  [20, 21, 5, 22, 23, 24, 25, 26, 27, 28, 29, 19...  \n",
       "2  [1, 38, 39, 40, 41, 42, 43, 44, 45, 17, 46, 47...  \n",
       "3  [52, 53, 54, 55, 56, 30, 57, 19, 58, 59, '[PAD...  \n",
       "4  [1, 60, 19, 6, 61, 62, 63, 64, 65, 66, 67, 68,...  "
      ]
     },
     "execution_count": 7,
     "metadata": {},
     "output_type": "execute_result"
    }
   ],
   "source": [
    "df.head()"
   ]
  },
  {
   "cell_type": "code",
   "execution_count": 13,
   "id": "f6a00ac5-00d4-439c-97a2-a59117d16fa2",
   "metadata": {
    "id": "f6a00ac5-00d4-439c-97a2-a59117d16fa2"
   },
   "outputs": [],
   "source": [
    "# Label encoding\n",
    "label_encoder = LabelEncoder()\n",
    "df[\"label\"] = label_encoder.fit_transform(df[\"sentiment label\"])  # Positive = 1, Negative = 0\n",
    "\n",
    "# Token Indexing\n",
    "token2index = {tok: idx+1 for idx, tok in enumerate({t for d in df[\"listed text\"] for t in d})}\n",
    "token2index[\"[PAD]\"] = 0\n",
    "index2token = {v: k for k, v in token2index.items()}"
   ]
  },
  {
   "cell_type": "code",
   "execution_count": 14,
   "id": "cca166d3-0a8b-459c-95e3-fa8ca7fd79b9",
   "metadata": {
    "id": "cca166d3-0a8b-459c-95e3-fa8ca7fd79b9"
   },
   "outputs": [],
   "source": [
    "def doc_to_idx(doc):\n",
    "    return [token2index.get(tok, 0) for tok in doc]\n",
    "\n",
    "def pad_seq(seq, max_len=40):\n",
    "    return seq[:max_len] + [0] * (max_len - len(seq)) if len(seq) < max_len else seq[:max_len]\n"
   ]
  },
  {
   "cell_type": "code",
   "execution_count": 15,
   "id": "8ee3b974-b610-4264-a599-012f9f4a1d01",
   "metadata": {
    "id": "8ee3b974-b610-4264-a599-012f9f4a1d01"
   },
   "outputs": [],
   "source": [
    "df[\"sequence\"] = df[\"listed text\"].apply(doc_to_idx).apply(lambda x: pad_seq(x, max_len=40))\n",
    "\n",
    "# Train/test split"
   ]
  },
  {
   "cell_type": "code",
   "execution_count": 16,
   "id": "38463522-0f03-4ca0-8387-cc4e90ab93b4",
   "metadata": {
    "id": "38463522-0f03-4ca0-8387-cc4e90ab93b4"
   },
   "outputs": [],
   "source": [
    "X_train, X_val, y_train, y_val = train_test_split(df[\"sequence\"].tolist(), df[\"label\"].tolist(), test_size=0.2)"
   ]
  },
  {
   "cell_type": "code",
   "execution_count": 17,
   "id": "ac7a053f-c0de-42a2-b3ed-e2bd47aa81ba",
   "metadata": {
    "id": "ac7a053f-c0de-42a2-b3ed-e2bd47aa81ba"
   },
   "outputs": [],
   "source": [
    "# Create Datasets\n",
    "train_dataset = TwitterDataset(X_train, y_train)\n",
    "val_dataset = TwitterDataset(X_val, y_val)\n",
    "\n",
    "train_loader = DataLoader(train_dataset, batch_size=64, shuffle=True)\n",
    "val_loader = DataLoader(val_dataset, batch_size=64)\n"
   ]
  },
  {
   "cell_type": "code",
   "execution_count": 18,
   "id": "8799f478-ca83-42a9-9169-0a9c05972395",
   "metadata": {
    "colab": {
     "base_uri": "https://localhost:8080/"
    },
    "id": "8799f478-ca83-42a9-9169-0a9c05972395",
    "outputId": "51b9ae77-9230-4d81-efb9-254fdefa9c4f"
   },
   "outputs": [
    {
     "name": "stderr",
     "output_type": "stream",
     "text": [
      "C:\\Users\\natal\\miniconda3\\lib\\site-packages\\torch\\nn\\modules\\transformer.py:379: UserWarning: enable_nested_tensor is True, but self.use_nested_tensor is False because encoder_layer.self_attn.batch_first was not True(use batch_first for better inference performance)\n",
      "  warnings.warn(\n"
     ]
    }
   ],
   "source": [
    "# === Model Setup ===\n",
    "device = torch.device(\"cuda\" if torch.cuda.is_available() else \"cpu\")\n",
    "model = CustomTransformer(vocab_size=len(token2index), num_classes=2).to(device)\n",
    "\n",
    "criterion = nn.CrossEntropyLoss()\n",
    "optimizer = torch.optim.Adam(model.parameters(), lr=0.001)\n"
   ]
  },
  {
   "cell_type": "code",
   "execution_count": 19,
   "id": "X9Y74NiChhby",
   "metadata": {
    "id": "X9Y74NiChhby"
   },
   "outputs": [],
   "source": []
  },
  {
   "cell_type": "code",
   "execution_count": 20,
   "id": "eHkFSq5aqZWX",
   "metadata": {
    "id": "eHkFSq5aqZWX"
   },
   "outputs": [],
   "source": [
    "from tqdm import tqdm\n",
    "\n",
    "def train_model(\n",
    "    model,\n",
    "    train_loader,\n",
    "    val_loader,\n",
    "    criterion,\n",
    "    optimizer,\n",
    "    device,\n",
    "    epochs=5,\n",
    "    print_metrics=True\n",
    "):\n",
    "    model.to(device)\n",
    "    metrics_log = {\n",
    "        \"train_loss\": [],\n",
    "        \"val_accuracy\": [],\n",
    "        \"val_precision\": [],\n",
    "        \"val_recall\": [],\n",
    "        \"val_f1\": []\n",
    "    }\n",
    "\n",
    "    for epoch in range(epochs):\n",
    "        model.train()\n",
    "        total_loss = 0\n",
    "        train_bar = tqdm(train_loader, desc=f\"Epoch {epoch+1}/{epochs} [Training]\", leave=False)\n",
    "\n",
    "        for batch_x, batch_y in train_bar:\n",
    "            batch_x, batch_y = batch_x.to(device), batch_y.to(device)\n",
    "\n",
    "            optimizer.zero_grad()\n",
    "            outputs = model(batch_x)\n",
    "            loss = criterion(outputs, batch_y)\n",
    "            loss.backward()\n",
    "            optimizer.step()\n",
    "\n",
    "            total_loss += loss.item()\n",
    "            train_bar.set_postfix(loss=loss.item())\n",
    "\n",
    "        avg_loss = total_loss / len(train_loader)\n",
    "\n",
    "        # === Validation Phase ===\n",
    "        model.eval()\n",
    "        all_preds = []\n",
    "        all_labels = []\n",
    "\n",
    "        val_bar = tqdm(val_loader, desc=f\"Epoch {epoch+1}/{epochs} [Validation]\", leave=False)\n",
    "        with torch.no_grad():\n",
    "            for batch_x, batch_y in val_bar:\n",
    "                batch_x, batch_y = batch_x.to(device), batch_y.to(device)\n",
    "                outputs = model(batch_x)\n",
    "                preds = torch.argmax(outputs, dim=1)\n",
    "                all_preds.extend(preds.cpu().tolist())\n",
    "                all_labels.extend(batch_y.cpu().tolist())\n",
    "\n",
    "        # Metrics\n",
    "        val_acc = accuracy_score(all_labels, all_preds)\n",
    "        precision = precision_score(all_labels, all_preds, average='macro', zero_division=0)\n",
    "        recall = recall_score(all_labels, all_preds, average='macro', zero_division=0)\n",
    "        f1 = f1_score(all_labels, all_preds, average='macro', zero_division=0)\n",
    "\n",
    "        # Log metrics\n",
    "        metrics_log[\"train_loss\"].append(avg_loss)\n",
    "        metrics_log[\"val_accuracy\"].append(val_acc)\n",
    "        metrics_log[\"val_precision\"].append(precision)\n",
    "        metrics_log[\"val_recall\"].append(recall)\n",
    "        metrics_log[\"val_f1\"].append(f1)\n",
    "\n",
    "        if print_metrics:\n",
    "            print(f\"\\nEpoch {epoch+1}/{epochs}\")\n",
    "            print(f\"Train Loss: {avg_loss:.4f} | Val Acc: {val_acc:.4f}\")\n",
    "            print(f\"Precision: {precision:.4f} | Recall: {recall:.4f} | F1 Score: {f1:.4f}\\n\")\n",
    "\n",
    "    return model, metrics_log\n"
   ]
  },
  {
   "cell_type": "markdown",
   "id": "4OkxyfTCow2y",
   "metadata": {
    "id": "4OkxyfTCow2y"
   },
   "source": [
    "## With Attention"
   ]
  },
  {
   "cell_type": "code",
   "execution_count": 21,
   "id": "0nCzoF2OvEvd",
   "metadata": {
    "id": "0nCzoF2OvEvd"
   },
   "outputs": [],
   "source": [
    "import torch\n",
    "import torch.nn as nn\n",
    "\n",
    "class CustomCausalTransformer(nn.Module):\n",
    "    def __init__(self, vocab_size, embed_dim=128, n_heads=4, num_layers=2, max_len=40, num_classes=3, causal=False):\n",
    "        super().__init__()\n",
    "        self.causal = causal\n",
    "        self.max_len = max_len\n",
    "\n",
    "        self.embedding = nn.Embedding(vocab_size, embed_dim, padding_idx=0)\n",
    "        self.pos_embedding = nn.Parameter(torch.randn(1, max_len, embed_dim))\n",
    "\n",
    "        encoder_layer = nn.TransformerEncoderLayer(d_model=embed_dim, nhead=n_heads)\n",
    "        self.encoder = nn.TransformerEncoder(encoder_layer, num_layers=num_layers)\n",
    "\n",
    "        self.classifier = nn.Linear(embed_dim, num_classes)\n",
    "\n",
    "    def generate_causal_mask(self, seq_len, device):\n",
    "        mask = torch.triu(torch.ones(seq_len, seq_len), diagonal=1)\n",
    "        mask = mask.masked_fill(mask == 1, float('-inf')).to(device)\n",
    "        return mask\n",
    "\n",
    "    def forward(self, x):\n",
    "        # x: (batch_size, seq_len)\n",
    "        batch_size, seq_len = x.shape\n",
    "\n",
    "        x = self.embedding(x) + self.pos_embedding[:, :seq_len, :]\n",
    "\n",
    "        # Generate attention mask (optional)\n",
    "        if self.causal:\n",
    "            attn_mask = self.generate_causal_mask(seq_len, x.device)  # shape [seq_len, seq_len]\n",
    "        else:\n",
    "            attn_mask = None\n",
    "\n",
    "        x = self.encoder(x.transpose(0, 1), mask=attn_mask)  # shape [seq_len, batch_size, embed_dim]\n",
    "        x = x.transpose(0, 1)  # back to [batch_size, seq_len, embed_dim]\n",
    "\n",
    "        pooled = x.mean(dim=1)  # mean pooling over sequence\n",
    "        return self.classifier(pooled)\n"
   ]
  },
  {
   "cell_type": "code",
   "execution_count": 19,
   "id": "E851MsELo7OB",
   "metadata": {
    "colab": {
     "base_uri": "https://localhost:8080/"
    },
    "id": "E851MsELo7OB",
    "outputId": "7cbdb813-723f-4554-f248-5d439acc4044"
   },
   "outputs": [
    {
     "name": "stderr",
     "output_type": "stream",
     "text": [
      "                                                                                                                       "
     ]
    },
    {
     "name": "stdout",
     "output_type": "stream",
     "text": [
      "\n",
      "Epoch 1/2\n",
      "Train Loss: 0.5116 | Val Acc: 0.7829\n",
      "Precision: 0.7835 | Recall: 0.7828 | F1 Score: 0.7827\n",
      "\n"
     ]
    },
    {
     "name": "stderr",
     "output_type": "stream",
     "text": [
      "                                                                                                                       "
     ]
    },
    {
     "name": "stdout",
     "output_type": "stream",
     "text": [
      "\n",
      "Epoch 2/2\n",
      "Train Loss: 0.4419 | Val Acc: 0.7981\n",
      "Precision: 0.7993 | Recall: 0.7981 | F1 Score: 0.7979\n",
      "\n"
     ]
    }
   ],
   "source": [
    "# For sentiment classification with causal masking ON\n",
    "model = CustomCausalTransformer(\n",
    "    vocab_size=len(token2index),\n",
    "    embed_dim=128,\n",
    "    n_heads=4,\n",
    "    num_layers=4,\n",
    "    max_len=40,\n",
    "    num_classes=3,     # 3 for positive/neutral/negative\n",
    "    causal=True        # Set to False for bidirectional attention (like BERT)\n",
    ")\n",
    "\n",
    "criterion = nn.CrossEntropyLoss()\n",
    "optimizer = torch.optim.Adam(model.parameters(), lr= 0.0001)\n",
    "\n",
    "model, log = train_model(\n",
    "    model, train_loader, val_loader,\n",
    "    criterion, optimizer,\n",
    "    device='cuda' if torch.cuda.is_available() else 'cpu',\n",
    "    epochs=2\n",
    ")\n"
   ]
  },
  {
   "cell_type": "code",
   "execution_count": 20,
   "id": "hNlMihNNp1bD",
   "metadata": {
    "colab": {
     "base_uri": "https://localhost:8080/",
     "height": 472
    },
    "id": "hNlMihNNp1bD",
    "outputId": "f5d19186-57b7-498f-ec29-a1c7dfcc03fe"
   },
   "outputs": [
    {
     "data": {
      "image/png": "[encoded data removed]",
      "text/plain": [
       "<Figure size 640x480 with 1 Axes>"
      ]
     },
     "metadata": {},
     "output_type": "display_data"
    }
   ],
   "source": [
    "import matplotlib.pyplot as plt\n",
    "\n",
    "plt.plot(log[\"val_accuracy\"], label=\"Val Accuracy\")\n",
    "plt.plot(log[\"val_f1\"], label=\"Val F1\")\n",
    "plt.xlabel(\"Epoch\")\n",
    "plt.ylabel(\"Metric\")\n",
    "plt.legend()\n",
    "plt.title(\"Validation Metrics Over Epochs\")\n",
    "plt.show()\n"
   ]
  },
  {
   "cell_type": "code",
   "execution_count": 21,
   "id": "9aQT6Pv5twEs",
   "metadata": {
    "id": "9aQT6Pv5twEs"
   },
   "outputs": [
    {
     "name": "stderr",
     "output_type": "stream",
     "text": [
      "C:\\Users\\natal\\miniconda3\\lib\\site-packages\\torch\\nn\\modules\\transformer.py:379: UserWarning: enable_nested_tensor is True, but self.use_nested_tensor is False because encoder_layer.self_attn.batch_first was not True(use batch_first for better inference performance)\n",
      "  warnings.warn(\n",
      "IOPub message rate exceeded.█████████                                 | 4854/20625 [13:19<41:28,  6.34it/s, loss=0.436]\n",
      "The Jupyter server will temporarily stop sending output\n",
      "to the client in order to avoid crashing it.\n",
      "To change this limit, set the config variable\n",
      "`--ServerApp.iopub_msg_rate_limit`.\n",
      "\n",
      "Current values:\n",
      "ServerApp.iopub_msg_rate_limit=1000.0 (msgs/sec)\n",
      "ServerApp.rate_limit_window=3.0 (secs)\n",
      "\n",
      "IOPub message rate exceeded.██████████████████████▍                  | 11479/20625 [29:50<22:04,  6.91it/s, loss=0.412]\n",
      "The Jupyter server will temporarily stop sending output\n",
      "to the client in order to avoid crashing it.\n",
      "To change this limit, set the config variable\n",
      "`--ServerApp.iopub_msg_rate_limit`.\n",
      "\n",
      "Current values:\n",
      "ServerApp.iopub_msg_rate_limit=1000.0 (msgs/sec)\n",
      "ServerApp.rate_limit_window=3.0 (secs)\n",
      "\n",
      "IOPub message rate exceeded.███████████████████████████              | 13779/20625 [35:29<16:54,  6.75it/s, loss=0.515]\n",
      "The Jupyter server will temporarily stop sending output\n",
      "to the client in order to avoid crashing it.\n",
      "To change this limit, set the config variable\n",
      "`--ServerApp.iopub_msg_rate_limit`.\n",
      "\n",
      "Current values:\n",
      "ServerApp.iopub_msg_rate_limit=1000.0 (msgs/sec)\n",
      "ServerApp.rate_limit_window=3.0 (secs)\n",
      "\n",
      "IOPub message rate exceeded.█████████████████████████████████████▎   | 18797/20625 [48:43<04:31,  6.74it/s, loss=0.558]\n",
      "The Jupyter server will temporarily stop sending output\n",
      "to the client in order to avoid crashing it.\n",
      "To change this limit, set the config variable\n",
      "`--ServerApp.iopub_msg_rate_limit`.\n",
      "\n",
      "Current values:\n",
      "ServerApp.iopub_msg_rate_limit=1000.0 (msgs/sec)\n",
      "ServerApp.rate_limit_window=3.0 (secs)\n",
      "\n",
      "                                                                                                                       "
     ]
    },
    {
     "name": "stdout",
     "output_type": "stream",
     "text": [
      "\n",
      "Epoch 1/2\n",
      "Train Loss: 0.4879 | Val Acc: 0.7919\n",
      "Precision: 0.7926 | Recall: 0.7918 | F1 Score: 0.7917\n",
      "\n"
     ]
    },
    {
     "name": "stderr",
     "output_type": "stream",
     "text": [
      "IOPub message rate exceeded.██████████████▎                           | 7362/20625 [18:32<33:49,  6.54it/s, loss=0.516]\n",
      "The Jupyter server will temporarily stop sending output\n",
      "to the client in order to avoid crashing it.\n",
      "To change this limit, set the config variable\n",
      "`--ServerApp.iopub_msg_rate_limit`.\n",
      "\n",
      "Current values:\n",
      "ServerApp.iopub_msg_rate_limit=1000.0 (msgs/sec)\n",
      "ServerApp.rate_limit_window=3.0 (secs)\n",
      "\n",
      "IOPub message rate exceeded.█████████████████████████                | 12804/20625 [33:01<20:21,  6.40it/s, loss=0.307]\n",
      "The Jupyter server will temporarily stop sending output\n",
      "to the client in order to avoid crashing it.\n",
      "To change this limit, set the config variable\n",
      "`--ServerApp.iopub_msg_rate_limit`.\n",
      "\n",
      "Current values:\n",
      "ServerApp.iopub_msg_rate_limit=1000.0 (msgs/sec)\n",
      "ServerApp.rate_limit_window=3.0 (secs)\n",
      "\n",
      "                                                                                                                       "
     ]
    },
    {
     "name": "stdout",
     "output_type": "stream",
     "text": [
      "\n",
      "Epoch 2/2\n",
      "Train Loss: 0.4325 | Val Acc: 0.7982\n",
      "Precision: 0.7993 | Recall: 0.7982 | F1 Score: 0.7980\n",
      "\n"
     ]
    }
   ],
   "source": [
    "# For sentiment classification with causal masking ON\n",
    "model = CustomCausalTransformer(\n",
    "    vocab_size=len(token2index),\n",
    "    embed_dim=16,\n",
    "    n_heads=2,\n",
    "    num_layers=2,\n",
    "    max_len=40,\n",
    "    num_classes=3,     # 3 for positive/neutral/negative\n",
    "    causal=True        # Set to False for bidirectional attention (like BERT)\n",
    ")\n",
    "\n",
    "criterion = nn.CrossEntropyLoss()\n",
    "optimizer = torch.optim.Adam(model.parameters(), lr= 0.001)\n",
    "\n",
    "model, log = train_model(\n",
    "    model, train_loader, val_loader,\n",
    "    criterion, optimizer,\n",
    "    device='cuda' if torch.cuda.is_available() else 'cpu',\n",
    "    epochs=2\n",
    ")\n"
   ]
  },
  {
   "cell_type": "code",
   "execution_count": 22,
   "id": "3d8ad0d8-fd41-44f4-a529-823b709feb6d",
   "metadata": {},
   "outputs": [
    {
     "data": {
      "image/png": "[encoded data removed]",
      "text/plain": [
       "<Figure size 640x480 with 1 Axes>"
      ]
     },
     "metadata": {},
     "output_type": "display_data"
    }
   ],
   "source": [
    "plt.plot(log[\"val_accuracy\"], label=\"Val Accuracy\")\n",
    "plt.plot(log[\"val_f1\"], label=\"Val F1\")\n",
    "plt.xlabel(\"Epoch\")\n",
    "plt.ylabel(\"Metric\")\n",
    "plt.legend()\n",
    "plt.title(\"Validation Metrics Over Epochs\")\n",
    "plt.show()\n"
   ]
  },
  {
   "cell_type": "code",
   "execution_count": 22,
   "id": "0324d069-a57d-46cd-b415-da17a8094d5a",
   "metadata": {},
   "outputs": [
    {
     "name": "stderr",
     "output_type": "stream",
     "text": [
      "C:\\Users\\natal\\miniconda3\\lib\\site-packages\\torch\\nn\\modules\\transformer.py:379: UserWarning: enable_nested_tensor is True, but self.use_nested_tensor is False because encoder_layer.self_attn.batch_first was not True(use batch_first for better inference performance)\n",
      "  warnings.warn(\n",
      "                                                                                                                       "
     ]
    },
    {
     "name": "stdout",
     "output_type": "stream",
     "text": [
      "\n",
      "Epoch 1/2\n",
      "Train Loss: 0.6126 | Val Acc: 0.7014\n",
      "Precision: 0.7033 | Recall: 0.7012 | F1 Score: 0.7005\n",
      "\n"
     ]
    },
    {
     "name": "stderr",
     "output_type": "stream",
     "text": [
      "                                                                                                                       "
     ]
    },
    {
     "name": "stdout",
     "output_type": "stream",
     "text": [
      "\n",
      "Epoch 2/2\n",
      "Train Loss: 0.5782 | Val Acc: 0.6969\n",
      "Precision: 0.6979 | Recall: 0.6967 | F1 Score: 0.6963\n",
      "\n"
     ]
    }
   ],
   "source": [
    "# For sentiment classification with causal masking ON\n",
    "model = CustomCausalTransformer(\n",
    "    vocab_size=len(token2index),\n",
    "    embed_dim=8,\n",
    "    n_heads=4,\n",
    "    num_layers=4,\n",
    "    max_len=40,\n",
    "    num_classes=3,     # 3 for positive/neutral/negative\n",
    "    causal=True        # Set to False for bidirectional attention (like BERT)\n",
    ")\n",
    "\n",
    "criterion = nn.CrossEntropyLoss()\n",
    "optimizer = torch.optim.Adam(model.parameters(), lr= 0.001)\n",
    "\n",
    "model, log = train_model(\n",
    "    model, train_loader, val_loader,\n",
    "    criterion, optimizer,\n",
    "    device='cuda' if torch.cuda.is_available() else 'cpu',\n",
    "    epochs=2\n",
    ")\n"
   ]
  },
  {
   "cell_type": "code",
   "execution_count": 26,
   "id": "9f4ef96b-155f-4502-af67-70c515fca08a",
   "metadata": {},
   "outputs": [
    {
     "data": {
      "image/png": "[encoded data removed]",
      "text/plain": [
       "<Figure size 640x480 with 1 Axes>"
      ]
     },
     "metadata": {},
     "output_type": "display_data"
    }
   ],
   "source": [
    "import matplotlib.pyplot as plt\n",
    "\n",
    "plt.plot(log[\"val_accuracy\"], label=\"Val Accuracy\")\n",
    "plt.plot(log[\"val_f1\"], label=\"Val F1\")\n",
    "plt.xlabel(\"Epoch\")\n",
    "plt.ylabel(\"Metric\")\n",
    "plt.legend()\n",
    "plt.title(\"Validation Metrics Over Epochs\")\n",
    "plt.show()\n"
   ]
  },
  {
   "cell_type": "code",
   "execution_count": null,
   "id": "33f8069c-439d-4518-b9c5-c04f4ee3a792",
   "metadata": {},
   "outputs": [],
   "source": [
    "def evaluate_model(model, test_loader, threshold=0.5, device='cpu'):\n",
    "    model.eval()\n",
    "    all_preds = []\n",
    "    all_labels = []\n",
    "\n",
    "    with torch.no_grad():\n",
    "        for batch in test_loader:\n",
    "            inputs, labels = batch\n",
    "            inputs, labels = inputs.to(device), labels.to(device)\n",
    "\n",
    "            outputs = model(inputs)\n",
    "            preds = torch.sigmoid(outputs).view(-1)\n",
    "            preds = (preds >= threshold).long()\n",
    "\n",
    "            all_preds.extend(preds.cpu().tolist())\n",
    "            all_labels.extend(labels.cpu().tolist())\n",
    "\n",
    "    accuracy = accuracy_score(all_labels, all_preds)\n",
    "    precision = precision_score(all_labels, all_preds)\n",
    "    recall = recall_score(all_labels, all_preds)\n",
    "    f1 = f1_score(all_labels, all_preds)\n",
    "\n",
    "    print(f\"\\nEvaluation:\")\n",
    "    print(f\"Accuracy:  {accuracy:.4f}\")\n",
    "    print(f\"Precision: {precision:.4f}\")\n",
    "    print(f\"Recall:    {recall:.4f}\")\n",
    "    print(f\"F1 Score:  {f1:.4f}\")\n",
    "\n",
    "    return all_preds, all_labels, accuracy, precision, recall, f1"
   ]
  },
  {
   "cell_type": "code",
   "execution_count": 36,
   "id": "83a185ca-d6c9-474f-ae27-df5225530964",
   "metadata": {},
   "outputs": [],
   "source": [
    "def evaluate_model(model, test_loader, threshold=0.5, device='cpu'):\n",
    "    model.eval()\n",
    "    all_preds = []\n",
    "    all_labels = []\n",
    "\n",
    "    with torch.no_grad():\n",
    "        for batch in test_loader:\n",
    "            inputs, labels = batch\n",
    "            inputs, labels = inputs.to(device), labels.to(device)\n",
    "    \n",
    "            outputs = model(inputs)  # shape [batch_size, 3]\n",
    "            preds = torch.argmax(outputs, dim=1)  # shape [batch_size]\n",
    "    \n",
    "            all_preds.extend(preds.cpu().tolist())\n",
    "            all_labels.extend(labels.cpu().tolist())\n",
    "    \n",
    "    \n",
    "        accuracy = accuracy_score(all_labels, all_preds)\n",
    "        precision = precision_score(all_labels, all_preds)\n",
    "        recall = recall_score(all_labels, all_preds)\n",
    "    f1 = f1_score(all_labels, all_preds)\n",
    "\n",
    "    print(f\"\\nEvaluation:\")\n",
    "    print(f\"Accuracy:  {accuracy:.4f}\")\n",
    "    print(f\"Precision: {precision:.4f}\")\n",
    "    print(f\"Recall:    {recall:.4f}\")\n",
    "    print(f\"F1 Score:  {f1:.4f}\")\n",
    "\n",
    "    return all_preds, all_labels, accuracy, precision, recall, f1"
   ]
  },
  {
   "cell_type": "code",
   "execution_count": 37,
   "id": "f7c8274b-a012-4ea0-af0b-970b96febbae",
   "metadata": {},
   "outputs": [
    {
     "name": "stdout",
     "output_type": "stream",
     "text": [
      "\n",
      "Evaluation:\n",
      "Accuracy:  0.6969\n",
      "Precision: 0.7113\n",
      "Recall:    0.6586\n",
      "F1 Score:  0.6840\n"
     ]
    }
   ],
   "source": [
    "all_preds, all_labels, accuracy, precision, recall, f1 = evaluate_model(model, val_loader, threshold=0.5, device='cpu')"
   ]
  },
  {
   "cell_type": "code",
   "execution_count": 38,
   "id": "ec0bf3ba-f7b7-451a-a7e0-3f67f5f1be77",
   "metadata": {},
   "outputs": [],
   "source": [
    "''' DATA VISUALIZATION '''\n",
    "import seaborn as sb\n",
    "from wordcloud import WordCloud\n",
    "import matplotlib.pyplot as plt\n",
    "import pyLDAvis\n",
    "import graphviz\n",
    "from mpl_toolkits.mplot3d import Axes3D \n",
    "from mpl_toolkits.mplot3d import Axes3D \n",
    "from IPython.display import Image\n",
    "import pydotplus\n",
    "from matplotlib.ticker import MultipleLocator\n",
    "from matplotlib.ticker import AutoMinorLocator\n",
    "from tabulate import tabulate\n",
    "from sklearn.metrics import confusion_matrix\n",
    "from sklearn.utils.multiclass import unique_labels"
   ]
  },
  {
   "cell_type": "code",
   "execution_count": 39,
   "id": "7af50a76-2d23-4194-b45d-b99a602b7cf9",
   "metadata": {},
   "outputs": [],
   "source": [
    "\n",
    "def visual_confusion_matrix(labels, predictions ,title, label_name, file_name, fig_x, fig_y):\n",
    "    sb.set_style(\"white\")\n",
    "    sb.set(font='Times New Roman', font_scale=1)\n",
    "    fig, ax = plt.subplots(figsize=(fig_x, fig_y)) \n",
    "    ax.set_facecolor('white')\n",
    "\n",
    "\n",
    "    if isinstance(labels, torch.Tensor):\n",
    "        labels = labels.cpu().numpy()\n",
    "    if isinstance(predictions, torch.Tensor):\n",
    "        predictions = predictions.cpu().numpy()\n",
    "\n",
    "    unique_labels = sorted(set(labels) | set(predictions))\n",
    "\n",
    "    \n",
    "    text_labels = list(label_encoder.inverse_transform(unique_labels))\n",
    "    \n",
    "    matrix_ = confusion_matrix(labels, predictions, labels = unique_labels)\n",
    "    \n",
    "    confusion_df = pd.DataFrame(matrix_, index=unique_labels, columns=unique_labels)\n",
    "        \n",
    "    \n",
    "    sb.heatmap(confusion_df, annot = True, fmt='d', xticklabels=text_labels, yticklabels=text_labels, cbar_kws={'shrink': 0.5}, ax=ax)\n",
    "    ax.set_title(f\"Confusion Matrix:\\n{title}\\nLabels: {label_name}\")\n",
    "    ax.set_ylabel(\"True Labels\")\n",
    "    ax.set_xlabel(\"Predicted Labels\")\n",
    "    \n",
    "    ax.set_aspect('equal', adjustable='box')\n",
    "    #plt.subplots_adjust(left=0.15, right=0.85, top=0.85, bottom=0.15)\n",
    "    \n",
    "    # Save and show the plot\n",
    "    \n",
    "    plt.tight_layout(pad=.5)\n",
    "    plt.savefig(file_name, dpi=600)\n",
    "    \n",
    "    plt.show()"
   ]
  },
  {
   "cell_type": "code",
   "execution_count": 40,
   "id": "de831f3f-20b3-4f7c-8bf6-964473180fd1",
   "metadata": {},
   "outputs": [
    {
     "data": {
      "image/png": "[encoded data removed]",
      "text/plain": [
       "<Figure size 600x600 with 2 Axes>"
      ]
     },
     "metadata": {},
     "output_type": "display_data"
    }
   ],
   "source": [
    "visual_confusion_matrix(all_labels, all_preds, 'Sentiment140 Dataset', 'Sentiment Labels', 'confusion matrix.png', 6,6)"
   ]
  },
  {
   "cell_type": "code",
   "execution_count": null,
   "id": "cf7829ea-20da-4dc5-986d-be665b5bedfd",
   "metadata": {},
   "outputs": [],
   "source": []
  }
 ],
 "metadata": {
  "accelerator": "GPU",
  "colab": {
   "gpuType": "T4",
   "provenance": []
  },
  "kernelspec": {
   "display_name": "Python 3 (ipykernel)",
   "language": "python",
   "name": "python3"
  },
  "language_info": {
   "codemirror_mode": {
    "name": "ipython",
    "version": 3
   },
   "file_extension": ".py",
   "mimetype": "text/x-python",
   "name": "python",
   "nbconvert_exporter": "python",
   "pygments_lexer": "ipython3",
   "version": "3.10.16"
  }
 },
 "nbformat": 4,
 "nbformat_minor": 5
}
